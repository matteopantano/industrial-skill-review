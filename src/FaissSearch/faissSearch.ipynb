{
 "cells": [
  {
   "cell_type": "markdown",
   "metadata": {},
   "source": [
    "### Search using facebook FAISS\n",
    "[faiss](https://github.com/facebookresearch/faiss)"
   ]
  },
  {
   "cell_type": "code",
   "execution_count": 14,
   "metadata": {},
   "outputs": [],
   "source": [
    "import json\n",
    "# Used to import data from S3.\n",
    "import pandas as pd\n",
    "\n",
    "# Used to create the dense document vectors.\n",
    "import torch\n",
    "from sentence_transformers import SentenceTransformer\n",
    "\n",
    "# Used to create and store the Faiss index.\n",
    "import faiss\n",
    "import numpy as np\n",
    "import pickle\n",
    "import matplotlib.pyplot as plt\n",
    "\n",
    "# Used to do vector searches and display the results.\n",
    "#from vector_engine.utils import vector_search, id2details"
   ]
  },
  {
   "cell_type": "markdown",
   "metadata": {},
   "source": [
    "### Import\n",
    "Import the file exported from the excel file"
   ]
  },
  {
   "cell_type": "code",
   "execution_count": 208,
   "metadata": {},
   "outputs": [],
   "source": [
    "with open('D:/1. Papers/4. MyPapers/6_(20210609) Skill taxonomy/primitiveDef.json') as json_file:\n",
    "    primitiveDef = json.load(json_file)\n",
    "\n",
    "#print(primitiveDef)"
   ]
  },
  {
   "cell_type": "markdown",
   "metadata": {},
   "source": [
    "# Preprocessing\n",
    "Follow guide from: https://www.pinecone.io/learn/faiss-tutorial/"
   ]
  },
  {
   "cell_type": "code",
   "execution_count": 209,
   "metadata": {},
   "outputs": [],
   "source": [
    "# remove duplicates\n",
    "primitiveDefSing = [word for word in list(set(primitiveDef)) if type(word) is str]"
   ]
  },
  {
   "cell_type": "code",
   "execution_count": 210,
   "metadata": {},
   "outputs": [
    {
     "data": {
      "text/plain": [
       "(147, 768)"
      ]
     },
     "execution_count": 210,
     "metadata": {},
     "output_type": "execute_result"
    }
   ],
   "source": [
    "from sentence_transformers import SentenceTransformer\n",
    "# initialize sentence transformer model\n",
    "#model = SentenceTransformer('bert-base-nli-mean-tokens') #this is outdated: https://huggingface.co/sentence-transformers/bert-base-nli-mean-tokens\n",
    "model = SentenceTransformer('all-mpnet-base-v2')\n",
    "# create sentence embeddings\n",
    "sentence_embeddings = model.encode(primitiveDefSing)\n",
    "sentence_embeddings.shape"
   ]
  },
  {
   "cell_type": "code",
   "execution_count": 211,
   "metadata": {},
   "outputs": [
    {
     "name": "stdout",
     "output_type": "stream",
     "text": [
      "768\n"
     ]
    }
   ],
   "source": [
    "import faiss\n",
    "\n",
    "d = sentence_embeddings.shape[1]\n",
    "index = faiss.IndexFlatL2(d)\n",
    "index.is_trained\n",
    "index.add(sentence_embeddings)\n",
    "index.ntotal\n",
    "print(len(sentence_embeddings[0]))"
   ]
  },
  {
   "cell_type": "markdown",
   "metadata": {},
   "source": [
    "How to simply search with faiss using the IndexFlat2 index created above. We must provide query here"
   ]
  },
  {
   "cell_type": "code",
   "execution_count": 198,
   "metadata": {},
   "outputs": [],
   "source": [
    "k = 2\n",
    "xq = model.encode([\"unscrew\"])\n",
    "\n",
    "D, I = index.search(xq, k)  # search\n"
   ]
  },
  {
   "cell_type": "markdown",
   "metadata": {},
   "source": [
    "Here he use the clustering provided in the [faiss-wiki](https://github.com/facebookresearch/faiss/wiki/Faiss-building-blocks:-clustering,-PCA,-quantization)"
   ]
  },
  {
   "cell_type": "code",
   "execution_count": 213,
   "metadata": {},
   "outputs": [],
   "source": [
    "# We decompose with sklearn PCA\n",
    "from sklearn.decomposition import PCA\n",
    "\n",
    "pca = PCA(n_components=2)\n",
    "\n",
    "principalComponents = pca.fit_transform(sentence_embeddings)\n",
    "\n",
    "x = principalComponents[:,0].tolist()\n",
    "y = principalComponents[:,1].tolist()\n",
    "principalComponents = np.ascontiguousarray(principalComponents)\n",
    "\n",
    "# We decompose with faiss PCA\n",
    "mat = faiss.PCAMatrix(768, 2)\n",
    "mat.train(sentence_embeddings)\n",
    "assert mat.is_trained\n",
    "tr = mat.apply_py(sentence_embeddings)\n",
    "xf = tr[:,0].tolist()\n",
    "yf = tr[:,1].tolist()"
   ]
  },
  {
   "cell_type": "code",
   "execution_count": 217,
   "metadata": {},
   "outputs": [
    {
     "name": "stdout",
     "output_type": "stream",
     "text": [
      "35\n"
     ]
    }
   ],
   "source": [
    "# dataset = tr\n",
    "# dataset = principalComponents\n",
    "dataset = sentence_embeddings\n",
    "\n",
    "d = dataset.shape[1]\n",
    "index = faiss.IndexFlatL2(d)\n",
    "index.is_trained\n",
    "index.add(dataset)\n",
    "index.ntotal\n",
    "ncentroids = 35\n",
    "niter = 20\n",
    "verbose = True\n",
    "kmeans = faiss.Kmeans(d, ncentroids, niter=niter, verbose=verbose)\n",
    "kmeans.train(dataset)\n",
    "print(len(kmeans.centroids))"
   ]
  },
  {
   "cell_type": "code",
   "execution_count": 256,
   "metadata": {},
   "outputs": [],
   "source": [
    "D, I = kmeans.index.search(dataset, 1)\n",
    "#print(D)\n",
    "#print(I[:,0])\n",
    "Ilist = I[:,0].tolist()\n",
    "Dlist = D[:,0].tolist()\n",
    "#print(Ilist)\n",
    "d = {'primitive':primitiveDefSing, 'cluster':Ilist, 'distance':Dlist, 'x': xf, 'y': yf}\n",
    "#print(d)\n",
    "\n",
    "cluster = pd.DataFrame(d)\n",
    "#print(cluster.head())\n"
   ]
  },
  {
   "cell_type": "code",
   "execution_count": 258,
   "metadata": {},
   "outputs": [
    {
     "data": {
      "image/png": "[encoded data removed]",
      "text/plain": [
       "<Figure size 432x288 with 2 Axes>"
      ]
     },
     "metadata": {
      "needs_background": "light"
     },
     "output_type": "display_data"
    }
   ],
   "source": [
    "# Create scatter upon cluster type\n",
    "ax1 = cluster.plot.scatter(x='x', y='y', c='cluster', colormap='viridis')    "
   ]
  },
  {
   "cell_type": "code",
   "execution_count": 268,
   "metadata": {},
   "outputs": [
    {
     "name": "stdout",
     "output_type": "stream",
     "text": [
      "35\n"
     ]
    },
    {
     "ename": "AttributeError",
     "evalue": "module 'matplotlib.pyplot' has no attribute 'save'",
     "output_type": "error",
     "traceback": [
      "\u001b[1;31m---------------------------------------------------------------------------\u001b[0m",
      "\u001b[1;31mAttributeError\u001b[0m                            Traceback (most recent call last)",
      "\u001b[1;32m~\\AppData\\Local\\Temp/ipykernel_22396/1006814830.py\u001b[0m in \u001b[0;36m<module>\u001b[1;34m\u001b[0m\n\u001b[0;32m     16\u001b[0m     \u001b[0mplt\u001b[0m\u001b[1;33m.\u001b[0m\u001b[0mtext\u001b[0m\u001b[1;33m(\u001b[0m\u001b[0mrow\u001b[0m\u001b[1;33m[\u001b[0m\u001b[1;34m'x'\u001b[0m\u001b[1;33m]\u001b[0m\u001b[1;33m,\u001b[0m \u001b[0mrow\u001b[0m\u001b[1;33m[\u001b[0m\u001b[1;34m'y'\u001b[0m\u001b[1;33m]\u001b[0m\u001b[1;33m,\u001b[0m \u001b[0mrow\u001b[0m\u001b[1;33m[\u001b[0m\u001b[1;34m'primitive'\u001b[0m\u001b[1;33m]\u001b[0m\u001b[1;33m)\u001b[0m\u001b[1;33m\u001b[0m\u001b[1;33m\u001b[0m\u001b[0m\n\u001b[0;32m     17\u001b[0m \u001b[1;33m\u001b[0m\u001b[0m\n\u001b[1;32m---> 18\u001b[1;33m   \u001b[0mplt\u001b[0m\u001b[1;33m.\u001b[0m\u001b[0msave\u001b[0m\u001b[1;33m(\u001b[0m\u001b[1;34m\"D:/1. Papers/4. MyPapers/6_(20210609) Skill taxonomy/skill-taxonomy-extraction/data/out\"\u001b[0m \u001b[1;33m+\u001b[0m \u001b[0mstr\u001b[0m\u001b[1;33m(\u001b[0m\u001b[0mclusterNr\u001b[0m\u001b[1;33m)\u001b[0m \u001b[1;33m+\u001b[0m \u001b[1;34m\".png\"\u001b[0m\u001b[1;33m)\u001b[0m\u001b[1;33m\u001b[0m\u001b[1;33m\u001b[0m\u001b[0m\n\u001b[0m\u001b[0;32m     19\u001b[0m \u001b[1;33m\u001b[0m\u001b[0m\n",
      "\u001b[1;31mAttributeError\u001b[0m: module 'matplotlib.pyplot' has no attribute 'save'"
     ]
    },
    {
     "data": {
      "image/png": "[encoded data removed]",
      "text/plain": [
       "<Figure size 432x288 with 2 Axes>"
      ]
     },
     "metadata": {
      "needs_background": "light"
     },
     "output_type": "display_data"
    }
   ],
   "source": [
    "byCluster = cluster.groupby('cluster')\n",
    "\n",
    "print(len(byCluster))\n",
    "\n",
    "for clusterNr in range(len(byCluster)):\n",
    "  #print(clusterGroup)\n",
    "\n",
    "  displayCluster = byCluster.get_group(clusterNr)\n",
    "\n",
    "  #print(displayCluster)\n",
    "\n",
    "  ax1 = displayCluster.plot.scatter(x='x', y='y', c='cluster', colormap='viridis')\n",
    "\n",
    "  # Plot name for each datapoint\n",
    "  for idx, row in displayCluster.iterrows(): \n",
    "    plt.text(row['x'], row['y'], row['primitive'])\n",
    "\n",
    "  plt.savefig(\"D:/1. Papers/4. MyPapers/6_(20210609) Skill taxonomy/skill-taxonomy-extraction/data/out\" + str(clusterNr) + \".png\")\n",
    "    "
   ]
  }
 ],
 "metadata": {
  "interpreter": {
   "hash": "df3c48c92b78332adf6396d3c14699ed84ecc9b1d91aefcfe38a4f8d8ed70153"
  },
  "kernelspec": {
   "display_name": "Python 3.9.7 64-bit ('base': conda)",
   "language": "python",
   "name": "python3"
  },
  "language_info": {
   "codemirror_mode": {
    "name": "ipython",
    "version": 3
   },
   "file_extension": ".py",
   "mimetype": "text/x-python",
   "name": "python",
   "nbconvert_exporter": "python",
   "pygments_lexer": "ipython3",
   "version": "3.9.7"
  },
  "orig_nbformat": 4
 },
 "nbformat": 4,
 "nbformat_minor": 2
}
