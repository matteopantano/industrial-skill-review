{
 "cells": [
  {
   "cell_type": "markdown",
   "metadata": {},
   "source": [
    "### Search using facebook FAISS\n",
    "[faiss](https://github.com/facebookresearch/faiss)"
   ]
  },
  {
   "cell_type": "code",
   "execution_count": 11,
   "metadata": {},
   "outputs": [],
   "source": [
    "import json\n",
    "# Used to import data from S3.\n",
    "import pandas as pd\n",
    "\n",
    "# Used to create the dense document vectors.\n",
    "import torch\n",
    "from sentence_transformers import SentenceTransformer\n",
    "\n",
    "# Used to create and store the Faiss index.\n",
    "import faiss\n",
    "import numpy as np\n",
    "import pickle\n",
    "\n",
    "# Used to do vector searches and display the results.\n",
    "#from vector_engine.utils import vector_search, id2details"
   ]
  },
  {
   "cell_type": "markdown",
   "metadata": {},
   "source": [
    "### Import\n",
    "Import the file exported from the excel file"
   ]
  },
  {
   "cell_type": "code",
   "execution_count": 3,
   "metadata": {},
   "outputs": [],
   "source": [
    "with open('D:/1. Papers/4. MyPapers/6_(20210609) Skill taxonomy/primitiveDef.json') as json_file:\n",
    "    primitiveDef = json.load(json_file)\n",
    "\n",
    "#print(primitiveDef)"
   ]
  },
  {
   "cell_type": "markdown",
   "metadata": {},
   "source": [
    "# Preprocessing\n",
    "Follow guide from: https://www.pinecone.io/learn/faiss-tutorial/"
   ]
  },
  {
   "cell_type": "code",
   "execution_count": 4,
   "metadata": {},
   "outputs": [],
   "source": [
    "# remove duplicates\n",
    "primitiveDefSing = [word for word in list(set(primitiveDef)) if type(word) is str]"
   ]
  },
  {
   "cell_type": "code",
   "execution_count": 6,
   "metadata": {},
   "outputs": [
    {
     "data": {
      "text/plain": [
       "(148, 768)"
      ]
     },
     "execution_count": 6,
     "metadata": {},
     "output_type": "execute_result"
    }
   ],
   "source": [
    "from sentence_transformers import SentenceTransformer\n",
    "# initialize sentence transformer model\n",
    "model = SentenceTransformer('bert-base-nli-mean-tokens')\n",
    "# create sentence embeddings\n",
    "sentence_embeddings = model.encode(primitiveDefSing)\n",
    "sentence_embeddings.shape"
   ]
  },
  {
   "cell_type": "code",
   "execution_count": 52,
   "metadata": {},
   "outputs": [
    {
     "data": {
      "text/plain": [
       "148"
      ]
     },
     "execution_count": 52,
     "metadata": {},
     "output_type": "execute_result"
    }
   ],
   "source": [
    "import faiss\n",
    "\n",
    "d = sentence_embeddings.shape[1]\n",
    "index = faiss.IndexFlatL2(d)\n",
    "index.is_trained\n",
    "index.add(sentence_embeddings)\n",
    "index.ntotal"
   ]
  },
  {
   "cell_type": "markdown",
   "metadata": {},
   "source": [
    "How to simply search with faiss using the IndexFlat2 index created above. We must provide query here"
   ]
  },
  {
   "cell_type": "code",
   "execution_count": 42,
   "metadata": {},
   "outputs": [
    {
     "name": "stdout",
     "output_type": "stream",
     "text": [
      "[ 83 121]\n",
      "displace\n",
      "screw a nut\n"
     ]
    }
   ],
   "source": [
    "k = 2\n",
    "xq = model.encode([\"unscrew\"])\n",
    "\n",
    "D, I = index.search(xq, k)  # search"
   ]
  },
  {
   "cell_type": "markdown",
   "metadata": {},
   "source": [
    "Knowing that the KNN can return two clusters now I will loop through them ot find common clusters\n",
    "\n",
    "<!-- for primitive in primitiveDefSing:\n",
    "    print(primitive)\n",
    "    k = 2\n",
    "    xq = model.encode([str(primitive)])\n",
    "\n",
    "    D, I = index.search(xq, k)  # search\n",
    "    print(I)\n",
    "    print(D) -->"
   ]
  },
  {
   "cell_type": "markdown",
   "metadata": {},
   "source": [
    "Here he use the clustering provided in the [faiss-wiki](https://github.com/facebookresearch/faiss/wiki/Faiss-building-blocks:-clustering,-PCA,-quantization)"
   ]
  },
  {
   "cell_type": "code",
   "execution_count": 88,
   "metadata": {},
   "outputs": [
    {
     "name": "stdout",
     "output_type": "stream",
     "text": [
      "10\n"
     ]
    }
   ],
   "source": [
    "d = sentence_embeddings.shape[1]\n",
    "index = faiss.IndexFlatL2(d)\n",
    "index.is_trained\n",
    "index.add(sentence_embeddings)\n",
    "index.ntotal\n",
    "ncentroids = 10\n",
    "niter = 20\n",
    "verbose = True\n",
    "kmeans = faiss.Kmeans(d, ncentroids, niter=niter, verbose=verbose)\n",
    "kmeans.train(sentence_embeddings)\n",
    "print(len(kmeans.centroids))"
   ]
  },
  {
   "cell_type": "code",
   "execution_count": 131,
   "metadata": {},
   "outputs": [],
   "source": [
    "from sklearn.decomposition import PCA\n",
    "\n",
    "pca = PCA(n_components=2)\n",
    "\n",
    "principalComponents = pca.fit_transform(sentence_embeddings)\n",
    "\n",
    "#print(principalComponents[:,1])\n",
    "x = principalComponents[:,0].tolist()\n",
    "y = principalComponents[:,1].tolist()"
   ]
  },
  {
   "cell_type": "code",
   "execution_count": 136,
   "metadata": {},
   "outputs": [
    {
     "name": "stdout",
     "output_type": "stream",
     "text": [
      "               primitive  cluster    distance         x         y\n",
      "0         motion control        4   67.627655 -1.585058  0.238374\n",
      "1     dynamic movemement        4   78.057892 -1.549468  0.515662\n",
      "2                 search        1   61.370728 -1.749492 -1.416194\n",
      "3                    put        1   22.141968 -3.563525 -2.408525\n",
      "4  start tool with x rpm        6  118.899963  1.151923  6.209590\n"
     ]
    },
    {
     "data": {
      "image/png": "[encoded data removed]",
      "text/plain": [
       "<Figure size 432x288 with 2 Axes>"
      ]
     },
     "metadata": {
      "needs_background": "light"
     },
     "output_type": "display_data"
    }
   ],
   "source": [
    "D, I = kmeans.index.search(sentence_embeddings, 1)\n",
    "#print(D[:,0])\n",
    "Ilist = I[:,0].tolist()\n",
    "Dlist = D[:,0].tolist()\n",
    "#print(Ilist)\n",
    "d = {'primitive':primitiveDefSing, 'cluster':Ilist, 'distance':Dlist, 'x':x, 'y': y}\n",
    "#print(d)\n",
    "\n",
    "cluster = pd.DataFrame(d)\n",
    "print(cluster.head())\n",
    "\n",
    "ax1 = cluster.plot.scatter(x='x', y='y', c='cluster', colormap='viridis')"
   ]
  }
 ],
 "metadata": {
  "interpreter": {
   "hash": "df3c48c92b78332adf6396d3c14699ed84ecc9b1d91aefcfe38a4f8d8ed70153"
  },
  "kernelspec": {
   "display_name": "Python 3.9.7 64-bit ('base': conda)",
   "language": "python",
   "name": "python3"
  },
  "language_info": {
   "codemirror_mode": {
    "name": "ipython",
    "version": 3
   },
   "file_extension": ".py",
   "mimetype": "text/x-python",
   "name": "python",
   "nbconvert_exporter": "python",
   "pygments_lexer": "ipython3",
   "version": "3.9.7"
  },
  "orig_nbformat": 4
 },
 "nbformat": 4,
 "nbformat_minor": 2
}
